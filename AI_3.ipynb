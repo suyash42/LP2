{
 "cells": [
  {
   "cell_type": "code",
   "execution_count": 3,
   "id": "e57c0bbc",
   "metadata": {},
   "outputs": [
    {
     "name": "stdout",
     "output_type": "stream",
     "text": [
      "[5, 7, 9, 10, 13, 20]\n"
     ]
    }
   ],
   "source": [
    "# Selectiion Sort\n",
    "def selection_sort(arr):\n",
    "    for i in range(len(arr)):\n",
    "        min_index=i\n",
    "        for j in range(i+1, len(arr)):\n",
    "            if arr[j]<arr[min_index]:\n",
    "                min_index=j\n",
    "        arr[i], arr[min_index]=arr[min_index], arr[i]\n",
    "    return arr\n",
    "a1=[20,10,5,7,9,13]\n",
    "print(selection_sort(a1))"
   ]
  },
  {
   "cell_type": "code",
   "execution_count": 2,
   "id": "0473b860",
   "metadata": {},
   "outputs": [
    {
     "name": "stdout",
     "output_type": "stream",
     "text": [
      "[('A', 'B', 2), ('B', 'C', 1), ('B', 'D', 1)]\n"
     ]
    }
   ],
   "source": [
    "# Prims Algorithm\n",
    "import heapq\n",
    "def prim(graph, start):\n",
    "    mst=[]\n",
    "    visited=set([start])\n",
    "    edges=[(cost,start,to) for to, cost in graph[start].items()]\n",
    "    heapq.heapify(edges)\n",
    "    while edges :\n",
    "        cost, frm, to = heapq.heappop(edges)\n",
    "        if to not in visited:\n",
    "            visited.add(to)\n",
    "            mst.append((frm,to, cost))\n",
    "            for to_next, cost2 in graph [to].items():\n",
    "                if to_next not in visited:\n",
    "                    heapq.heappush(edges,(cost2, to, to_next))\n",
    "    return mst\n",
    "graph={\n",
    "    'A':{'B':2, 'C':3},\n",
    "    'B':{'A':2, 'C':1, 'D':1},\n",
    "    'C':{'A':3, 'B':1, 'D':4},\n",
    "    'D':{'B':1, 'C':4}\n",
    "}\n",
    "print(prim(graph, 'A'))"
   ]
  },
  {
   "cell_type": "code",
   "execution_count": 4,
   "id": "2be02806",
   "metadata": {},
   "outputs": [
    {
     "name": "stdout",
     "output_type": "stream",
     "text": [
      "[('B', 'C', 1), ('B', 'D', 1), ('A', 'B', 2)]\n"
     ]
    }
   ],
   "source": [
    "# #Krushkal Algorithm\n",
    "def krushkal(graph):\n",
    "    mst=[]\n",
    "    edges = [(cost, frm, to) for frm, to_dict in graph.items() for to, cost in to_dict.items()]\n",
    "    edges.sort()\n",
    "    parent={node: node for node in graph}\n",
    "    def find_root(node):\n",
    "        if parent[node]==node:\n",
    "            return node\n",
    "        parent[node]=find_root(parent[node])\n",
    "        return parent[node]\n",
    "    for cost, frm, to in edges:\n",
    "        root1=find_root(frm)\n",
    "        root2=find_root(to)\n",
    "        if root1 != root2:\n",
    "            parent[root1]=root2\n",
    "            mst.append((frm, to, cost))\n",
    "    return mst\n",
    "graph={\n",
    "    'A':{'B':2, 'C':3},\n",
    "    'B':{'A':2, 'C':1, 'D':1},\n",
    "    'C':{'A':3, 'B':1, 'D':4},\n",
    "    'D':{'B':1, 'C':4}\n",
    "}\n",
    "print(krushkal(graph))"
   ]
  },
  {
   "cell_type": "code",
   "execution_count": 5,
   "id": "2b5b485b",
   "metadata": {},
   "outputs": [
    {
     "name": "stdout",
     "output_type": "stream",
     "text": [
      "Following is maximum profit sequence of jobs\n",
      "['c', 'a', 'e']\n"
     ]
    }
   ],
   "source": [
    "# Job scheduling Algorithm\n",
    "def printJobScheduling(arr, t):\n",
    "    n = len(arr)\n",
    "    for i in range(n):\n",
    "        for j in range(n - 1 - i):\n",
    "            if arr[j][2] < arr[j + 1][2]:\n",
    "                arr[j], arr[j + 1] = arr[j + 1], arr[j]\n",
    "    result = [False] * t\n",
    "    job = ['-1'] * t\n",
    "    for i in range(len(arr)):\n",
    "        for j in range(min(t - 1, arr[i][1] - 1), -1, -1):\n",
    "            if result[j] is False:\n",
    "                result[j] = True\n",
    "                job[j] = arr[i][0]\n",
    "                break\n",
    "    print(job)\n",
    "    \n",
    "    \n",
    "\n",
    "arr = [['a', 2, 100], # Job Array\n",
    "['b', 1, 19],\n",
    "['c', 2, 27],\n",
    "['d', 1, 25],\n",
    "['e', 3, 15]]\n",
    "print(\"Following is maximum profit sequence of jobs\")\n",
    "# Function Call\n",
    "printJobScheduling(arr, 3)"
   ]
  }
 ],
 "metadata": {
  "kernelspec": {
   "display_name": "base",
   "language": "python",
   "name": "python3"
  },
  "language_info": {
   "codemirror_mode": {
    "name": "ipython",
    "version": 3
   },
   "file_extension": ".py",
   "mimetype": "text/x-python",
   "name": "python",
   "nbconvert_exporter": "python",
   "pygments_lexer": "ipython3",
   "version": "3.12.7"
  }
 },
 "nbformat": 4,
 "nbformat_minor": 5
}
