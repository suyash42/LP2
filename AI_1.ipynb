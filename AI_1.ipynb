{
 "cells": [
  {
   "cell_type": "code",
   "execution_count": 1,
   "id": "56f4d627",
   "metadata": {},
   "outputs": [],
   "source": [
    "graph = {\n",
    "    'A':['B','C'],\n",
    "    'B':['D','E'],\n",
    "    'C':['F','G'],\n",
    "    'D':['H','I'],\n",
    "    'E':[],\n",
    "    'F':['J','K'],\n",
    "    'G':[],\n",
    "    'H':[],\n",
    "    'I':[],\n",
    "    'J':[],\n",
    "    'K':[]\n",
    "}"
   ]
  },
  {
   "cell_type": "code",
   "execution_count": 2,
   "id": "e725e0b5",
   "metadata": {},
   "outputs": [
    {
     "name": "stdout",
     "output_type": "stream",
     "text": [
      "\n",
      "Following is BFS : \n",
      "A B C D E F G H I J K "
     ]
    }
   ],
   "source": [
    "visited = []\n",
    "queue = []\n",
    "\n",
    "# BFS \n",
    "def bfs(visited, graph, node):\n",
    "    visited.append(node)\n",
    "    queue.append(node)\n",
    "    \n",
    "    while queue:\n",
    "        m = queue.pop(0)\n",
    "        print(m, end=\" \")\n",
    "        \n",
    "        for neighbour in graph[m]:\n",
    "            if neighbour is not visited:\n",
    "                visited.append(neighbour)\n",
    "                queue.append(neighbour)\n",
    "\n",
    "print(\"\\nFollowing is BFS : \")\n",
    "bfs(visited=visited,graph=graph,node='A')"
   ]
  },
  {
   "cell_type": "code",
   "execution_count": 3,
   "id": "d0803405",
   "metadata": {},
   "outputs": [
    {
     "name": "stdout",
     "output_type": "stream",
     "text": [
      "\n",
      "Following is DFS : \n",
      "A\n",
      "B\n",
      "D\n",
      "H\n",
      "I\n",
      "E\n",
      "C\n",
      "F\n",
      "J\n",
      "K\n",
      "G\n"
     ]
    }
   ],
   "source": [
    "visited1 = set()\n",
    "def dfs(visited, graph, node):\n",
    "    if node not in visited:\n",
    "        print(node)\n",
    "        visited.add(node)\n",
    "        \n",
    "        for neighbour in graph[node]:\n",
    "            dfs(visited=visited1, graph=graph, node=neighbour)\n",
    "            \n",
    "print(\"\\nFollowing is DFS : \")\n",
    "dfs(visited=visited1,graph=graph,node='A')"
   ]
  }
 ],
 "metadata": {
  "kernelspec": {
   "display_name": "base",
   "language": "python",
   "name": "python3"
  },
  "language_info": {
   "codemirror_mode": {
    "name": "ipython",
    "version": 3
   },
   "file_extension": ".py",
   "mimetype": "text/x-python",
   "name": "python",
   "nbconvert_exporter": "python",
   "pygments_lexer": "ipython3",
   "version": "3.12.7"
  }
 },
 "nbformat": 4,
 "nbformat_minor": 5
}
