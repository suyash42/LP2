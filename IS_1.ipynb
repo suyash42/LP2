{
 "cells": [
  {
   "cell_type": "code",
   "execution_count": null,
   "id": "a590123b",
   "metadata": {},
   "outputs": [],
   "source": [
    "string = input(\"Enter String: \") \n",
    "result_and = \"\"\n",
    "result_xor = \"\" \n",
    "for char in string:\n",
    "    and_val = ord(char) & 127 \n",
    "    xor_val = ord(char) ^ 127 \n",
    "    result_and += chr(and_val) \n",
    "    result_xor += chr(xor_val)\n",
    "print(\"Original string: \", string) \n",
    "print(\"AND result: \", result_and) \n",
    "print(\"XOR result: \", result_xor)"
   ]
  }
 ],
 "metadata": {
  "language_info": {
   "name": "python"
  }
 },
 "nbformat": 4,
 "nbformat_minor": 5
}
