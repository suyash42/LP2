{
 "cells": [
  {
   "cell_type": "code",
   "execution_count": 1,
   "id": "41a4ac78",
   "metadata": {},
   "outputs": [],
   "source": [
    "import random"
   ]
  },
  {
   "cell_type": "code",
   "execution_count": 2,
   "id": "0f37c537",
   "metadata": {},
   "outputs": [],
   "source": [
    "def gcd(a, b):\n",
    "    while b != 0:\n",
    "        a, b = b, a % b\n",
    "    return a"
   ]
  },
  {
   "cell_type": "code",
   "execution_count": 3,
   "id": "595fa3a6",
   "metadata": {},
   "outputs": [],
   "source": [
    "def generate_keypair(p, q):\n",
    "    n = p * q\n",
    "    phi = (p - 1) * (q - 1)\n",
    "    e = random.randrange(1, phi)\n",
    "    # print(\"e=\",e)\n",
    "    g = gcd(e, phi)\n",
    "    while g != 1:\n",
    "        e = random.randrange(1, phi)\n",
    "        g = gcd(e, phi)\n",
    "    d = multiplicative_inverse(e, phi)\n",
    "    return ((e, n), (d, n))"
   ]
  },
  {
   "cell_type": "code",
   "execution_count": 4,
   "id": "b38f7b18",
   "metadata": {},
   "outputs": [],
   "source": [
    "def multiplicative_inverse(e, phi):\n",
    "    d = 0\n",
    "    x1 = 0\n",
    "    x2 = 1\n",
    "    y1 = 1\n",
    "    temp_phi = phi\n",
    "    while e > 0:\n",
    "        temp1 = temp_phi // e\n",
    "        temp2 = temp_phi - temp1 * e\n",
    "        temp_phi = e\n",
    "        e = temp2\n",
    "        x = x2 - temp1 * x1\n",
    "        y = d - temp1 * y1\n",
    "        x2 = x1\n",
    "        x1 = x\n",
    "        d = y1\n",
    "        y1 = y\n",
    "    if temp_phi == 1:\n",
    "        return d + phi"
   ]
  },
  {
   "cell_type": "code",
   "execution_count": 5,
   "id": "162463b3",
   "metadata": {},
   "outputs": [],
   "source": [
    "def encrypt(public_key, plaintext):\n",
    "    key, n = public_key\n",
    "    cipher = [(ord(char) ** key) % n for char in plaintext]\n",
    "    return cipher"
   ]
  },
  {
   "cell_type": "code",
   "execution_count": 6,
   "id": "d5a2dd24",
   "metadata": {},
   "outputs": [],
   "source": [
    "def decrypt(private_key, ciphertext):\n",
    "    key, n = private_key\n",
    "    plain = [chr((char ** key) % n) for char in ciphertext]\n",
    "    return ''.join(plain)"
   ]
  },
  {
   "cell_type": "code",
   "execution_count": null,
   "id": "063a2f28",
   "metadata": {},
   "outputs": [],
   "source": [
    "p = int(input(\"Enter first Prime No. .: \"))\n",
    "q = int(input(\"Enter Second Prime No.: \"))\n",
    "public_key, private_key = generate_keypair(p, q)\n",
    "plaintext = input(\"Enter PlainText: \")\n",
    "ciphertext = encrypt(public_key, plaintext)\n",
    "decrypted_text = decrypt(private_key, ciphertext)\n",
    "print(\"Plaintext:\", plaintext)\n",
    "print(\"Ciphertext:\", ciphertext)\n",
    "print(\"Decrypted text:\", decrypted_text)"
   ]
  }
 ],
 "metadata": {
  "kernelspec": {
   "display_name": "base",
   "language": "python",
   "name": "python3"
  },
  "language_info": {
   "codemirror_mode": {
    "name": "ipython",
    "version": 3
   },
   "file_extension": ".py",
   "mimetype": "text/x-python",
   "name": "python",
   "nbconvert_exporter": "python",
   "pygments_lexer": "ipython3",
   "version": "3.12.7"
  }
 },
 "nbformat": 4,
 "nbformat_minor": 5
}
